{
 "cells": [
  {
   "cell_type": "code",
   "execution_count": 47,
   "metadata": {},
   "outputs": [
    {
     "name": "stdout",
     "output_type": "stream",
     "text": [
      "Collecting git+https://github.com/openai/whisper.gitNote: you may need to restart the kernel to use updated packages.\n"
     ]
    },
    {
     "name": "stderr",
     "output_type": "stream",
     "text": [
      "  Running command git clone --filter=blob:none --quiet https://github.com/openai/whisper.git 'C:\\Users\\Usama\\AppData\\Local\\Temp\\pip-req-build-h1p7arft'\n",
      "  fatal: unable to access 'https://github.com/openai/whisper.git/': Could not resolve host: github.com\n",
      "  error: subprocess-exited-with-error\n",
      "  \n",
      "  × git clone --filter=blob:none --quiet https://github.com/openai/whisper.git 'C:\\Users\\Usama\\AppData\\Local\\Temp\\pip-req-build-h1p7arft' did not run successfully.\n",
      "  │ exit code: 128\n",
      "  ╰─> See above for output.\n",
      "  \n",
      "  note: This error originates from a subprocess, and is likely not a problem with pip.\n",
      "error: subprocess-exited-with-error\n",
      "\n",
      "× git clone --filter=blob:none --quiet https://github.com/openai/whisper.git 'C:\\Users\\Usama\\AppData\\Local\\Temp\\pip-req-build-h1p7arft' did not run successfully.\n",
      "│ exit code: 128\n",
      "╰─> See above for output.\n",
      "\n",
      "note: This error originates from a subprocess, and is likely not a problem with pip.\n"
     ]
    },
    {
     "name": "stdout",
     "output_type": "stream",
     "text": [
      "\n",
      "  Cloning https://github.com/openai/whisper.git to c:\\users\\usama\\appdata\\local\\temp\\pip-req-build-h1p7arft\n",
      "Requirement already satisfied: pygame in c:\\users\\usama\\appdata\\local\\programs\\python\\python311\\lib\\site-packages (2.5.0)\n",
      "Note: you may need to restart the kernel to use updated packages.\n"
     ]
    }
   ],
   "source": [
    "%pip install git+https://github.com/openai/whisper.git\n",
    "%pip install pygame"
   ]
  },
  {
   "cell_type": "code",
   "execution_count": 6,
   "metadata": {},
   "outputs": [],
   "source": [
    "import whisper"
   ]
  },
  {
   "cell_type": "code",
   "execution_count": 7,
   "metadata": {},
   "outputs": [],
   "source": [
    "model_base = whisper.load_model(\"base\") "
   ]
  },
  {
   "cell_type": "code",
   "execution_count": 11,
   "metadata": {},
   "outputs": [],
   "source": [
    "audio_path=\"test/portuguese.mp3\""
   ]
  },
  {
   "cell_type": "code",
   "execution_count": 2,
   "metadata": {},
   "outputs": [
    {
     "name": "stdout",
     "output_type": "stream",
     "text": [
      "pygame 2.5.0 (SDL 2.28.0, Python 3.11.4)\n",
      "Hello from the pygame community. https://www.pygame.org/contribute.html\n"
     ]
    }
   ],
   "source": [
    "import pygame\n",
    "\n",
    "pygame.mixer.init()\n",
    "pygame.mixer.music.load(audio_path)\n",
    "pygame.mixer.music.play()"
   ]
  },
  {
   "cell_type": "code",
   "execution_count": 13,
   "metadata": {},
   "outputs": [],
   "source": [
    "def transcribe_english(audio_path, whisper_model):\n",
    "  audio = audio_path\n",
    "  #print(audio)\n",
    "\n",
    "  options = {\"fp16\": False, \"language\": \"pt\", \"task\": \"transcribe\"}\n",
    "  result = whisper_model.transcribe(audio, **options)\n",
    "\n",
    "  return result[\"text\"]"
   ]
  },
  {
   "cell_type": "code",
   "execution_count": 14,
   "metadata": {},
   "outputs": [
    {
     "ename": "ValueError",
     "evalue": "Unsupported language: po",
     "output_type": "error",
     "traceback": [
      "\u001b[1;31m---------------------------------------------------------------------------\u001b[0m",
      "\u001b[1;31mValueError\u001b[0m                                Traceback (most recent call last)",
      "Cell \u001b[1;32mIn[14], line 1\u001b[0m\n\u001b[1;32m----> 1\u001b[0m text_in_audio \u001b[39m=\u001b[39m transcribe_english(audio_path, model_base)\n",
      "Cell \u001b[1;32mIn[13], line 6\u001b[0m, in \u001b[0;36mtranscribe_english\u001b[1;34m(audio_path, whisper_model)\u001b[0m\n\u001b[0;32m      3\u001b[0m \u001b[39m#print(audio)\u001b[39;00m\n\u001b[0;32m      5\u001b[0m options \u001b[39m=\u001b[39m {\u001b[39m\"\u001b[39m\u001b[39mfp16\u001b[39m\u001b[39m\"\u001b[39m: \u001b[39mFalse\u001b[39;00m, \u001b[39m\"\u001b[39m\u001b[39mlanguage\u001b[39m\u001b[39m\"\u001b[39m: \u001b[39m\"\u001b[39m\u001b[39mpo\u001b[39m\u001b[39m\"\u001b[39m, \u001b[39m\"\u001b[39m\u001b[39mtask\u001b[39m\u001b[39m\"\u001b[39m: \u001b[39m\"\u001b[39m\u001b[39mtranscribe\u001b[39m\u001b[39m\"\u001b[39m}\n\u001b[1;32m----> 6\u001b[0m result \u001b[39m=\u001b[39m whisper_model\u001b[39m.\u001b[39;49mtranscribe(audio, \u001b[39m*\u001b[39;49m\u001b[39m*\u001b[39;49moptions)\n\u001b[0;32m      8\u001b[0m \u001b[39mreturn\u001b[39;00m result[\u001b[39m\"\u001b[39m\u001b[39mtext\u001b[39m\u001b[39m\"\u001b[39m]\n",
      "File \u001b[1;32mc:\\Users\\Usama\\AppData\\Local\\Programs\\Python\\Python311\\Lib\\site-packages\\whisper\\transcribe.py:142\u001b[0m, in \u001b[0;36mtranscribe\u001b[1;34m(model, audio, verbose, temperature, compression_ratio_threshold, logprob_threshold, no_speech_threshold, condition_on_previous_text, initial_prompt, word_timestamps, prepend_punctuations, append_punctuations, **decode_options)\u001b[0m\n\u001b[0;32m    140\u001b[0m language: \u001b[39mstr\u001b[39m \u001b[39m=\u001b[39m decode_options[\u001b[39m\"\u001b[39m\u001b[39mlanguage\u001b[39m\u001b[39m\"\u001b[39m]\n\u001b[0;32m    141\u001b[0m task: \u001b[39mstr\u001b[39m \u001b[39m=\u001b[39m decode_options\u001b[39m.\u001b[39mget(\u001b[39m\"\u001b[39m\u001b[39mtask\u001b[39m\u001b[39m\"\u001b[39m, \u001b[39m\"\u001b[39m\u001b[39mtranscribe\u001b[39m\u001b[39m\"\u001b[39m)\n\u001b[1;32m--> 142\u001b[0m tokenizer \u001b[39m=\u001b[39m get_tokenizer(model\u001b[39m.\u001b[39;49mis_multilingual, language\u001b[39m=\u001b[39;49mlanguage, task\u001b[39m=\u001b[39;49mtask)\n\u001b[0;32m    144\u001b[0m \u001b[39mif\u001b[39;00m word_timestamps \u001b[39mand\u001b[39;00m task \u001b[39m==\u001b[39m \u001b[39m\"\u001b[39m\u001b[39mtranslate\u001b[39m\u001b[39m\"\u001b[39m:\n\u001b[0;32m    145\u001b[0m     warnings\u001b[39m.\u001b[39mwarn(\u001b[39m\"\u001b[39m\u001b[39mWord-level timestamps on translations may not be reliable.\u001b[39m\u001b[39m\"\u001b[39m)\n",
      "File \u001b[1;32mc:\\Users\\Usama\\AppData\\Local\\Programs\\Python\\Python311\\Lib\\site-packages\\whisper\\tokenizer.py:373\u001b[0m, in \u001b[0;36mget_tokenizer\u001b[1;34m(multilingual, language, task)\u001b[0m\n\u001b[0;32m    371\u001b[0m             language \u001b[39m=\u001b[39m TO_LANGUAGE_CODE[language]\n\u001b[0;32m    372\u001b[0m         \u001b[39melse\u001b[39;00m:\n\u001b[1;32m--> 373\u001b[0m             \u001b[39mraise\u001b[39;00m \u001b[39mValueError\u001b[39;00m(\u001b[39mf\u001b[39m\u001b[39m\"\u001b[39m\u001b[39mUnsupported language: \u001b[39m\u001b[39m{\u001b[39;00mlanguage\u001b[39m}\u001b[39;00m\u001b[39m\"\u001b[39m)\n\u001b[0;32m    375\u001b[0m \u001b[39mif\u001b[39;00m multilingual:\n\u001b[0;32m    376\u001b[0m     encoding_name \u001b[39m=\u001b[39m \u001b[39m\"\u001b[39m\u001b[39mmultilingual\u001b[39m\u001b[39m\"\u001b[39m\n",
      "\u001b[1;31mValueError\u001b[0m: Unsupported language: po"
     ]
    }
   ],
   "source": [
    "text_in_audio = transcribe_english(audio_path, model_base)"
   ]
  },
  {
   "cell_type": "code",
   "execution_count": 10,
   "metadata": {},
   "outputs": [
    {
     "name": "stdout",
     "output_type": "stream",
     "text": [
      " Where is the bus stop? Where is the bus stop?\n"
     ]
    }
   ],
   "source": [
    "print(text_in_audio)"
   ]
  },
  {
   "cell_type": "code",
   "execution_count": 54,
   "metadata": {},
   "outputs": [],
   "source": [
    "file=open(\"transl.txt\",\"w\")\n",
    "file.write(text_in_audio)\n",
    "file.close()"
   ]
  },
  {
   "cell_type": "code",
   "execution_count": 27,
   "metadata": {},
   "outputs": [
    {
     "data": {
      "text/plain": [
       "('audio.mp3', <http.client.HTTPMessage at 0x246a32c8ed0>)"
      ]
     },
     "execution_count": 27,
     "metadata": {},
     "output_type": "execute_result"
    }
   ],
   "source": []
  }
 ],
 "metadata": {
  "kernelspec": {
   "display_name": "Python 3",
   "language": "python",
   "name": "python3"
  },
  "language_info": {
   "codemirror_mode": {
    "name": "ipython",
    "version": 3
   },
   "file_extension": ".py",
   "mimetype": "text/x-python",
   "name": "python",
   "nbconvert_exporter": "python",
   "pygments_lexer": "ipython3",
   "version": "3.11.4"
  },
  "orig_nbformat": 4
 },
 "nbformat": 4,
 "nbformat_minor": 2
}
